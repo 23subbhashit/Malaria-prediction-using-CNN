{
 "cells": [
  {
   "cell_type": "code",
   "execution_count": 1,
   "metadata": {
    "scrolled": true
   },
   "outputs": [
    {
     "name": "stdout",
     "output_type": "stream",
     "text": [
      "['main', 'Parasitized', 'Uninfected']\n"
     ]
    }
   ],
   "source": [
    "import numpy as np \n",
    "import pandas as pd\n",
    "import matplotlib.pyplot as plt\n",
    "from PIL import Image\n",
    "import os\n",
    "print(os.listdir(\"D:\\comp_vision\\malaria\\cell_images\"))"
   ]
  },
  {
   "cell_type": "code",
   "execution_count": 2,
   "metadata": {},
   "outputs": [],
   "source": [
    "import cv2\n",
    "import glob\n",
    "labels=[]\n",
    "data=[]\n",
    "for img in glob.glob(\"D:/comp_vision/malaria/cell_images/Parasitized/*.png\"):\n",
    "    image= cv2.imread(img)\n",
    "    image_from_array = Image.fromarray(image, 'RGB')\n",
    "    size_image = image_from_array.resize((50, 50))\n",
    "    data.append(np.array(size_image))\n",
    "    labels.append(1)\n",
    "for img in glob.glob(\"D:/comp_vision/malaria/cell_images/Uninfected/*.png\"):\n",
    "    image= cv2.imread(img)\n",
    "    image_from_array = Image.fromarray(image, 'RGB')\n",
    "    size_image = image_from_array.resize((50, 50))\n",
    "    data.append(np.array(size_image))\n",
    "    labels.append(0)"
   ]
  },
  {
   "cell_type": "code",
   "execution_count": 3,
   "metadata": {},
   "outputs": [],
   "source": [
    "Cells=np.array(data)\n",
    "labels=np.array(labels)"
   ]
  },
  {
   "cell_type": "code",
   "execution_count": 4,
   "metadata": {},
   "outputs": [
    {
     "data": {
      "text/plain": [
       "<matplotlib.image.AxesImage at 0x15242ce1ef0>"
      ]
     },
     "execution_count": 4,
     "metadata": {},
     "output_type": "execute_result"
    },
    {
     "data": {
      "image/png": "[encoded data removed]",
      "text/plain": [
       "<Figure size 1080x720 with 2 Axes>"
      ]
     },
     "metadata": {},
     "output_type": "display_data"
    }
   ],
   "source": [
    "figure=plt.figure(figsize=(15,10))\n",
    "ax=figure.add_subplot(121)\n",
    "ax.imshow(Cells[0])\n",
    "bx=figure.add_subplot(122)\n",
    "bx.imshow(Cells[6000])"
   ]
  },
  {
   "cell_type": "code",
   "execution_count": 5,
   "metadata": {},
   "outputs": [],
   "source": [
    "np.save(\"Cells\",Cells)\n",
    "np.save(\"labels\",labels)"
   ]
  },
  {
   "cell_type": "code",
   "execution_count": 6,
   "metadata": {},
   "outputs": [],
   "source": [
    "Cells=np.load(\"Cells.npy\")\n",
    "labels=np.load(\"labels.npy\")"
   ]
  },
  {
   "cell_type": "code",
   "execution_count": 7,
   "metadata": {},
   "outputs": [],
   "source": [
    "s=np.arange(Cells.shape[0])\n",
    "np.random.shuffle(s)\n",
    "Cells=Cells[s]\n",
    "labels=labels[s]"
   ]
  },
  {
   "cell_type": "code",
   "execution_count": 8,
   "metadata": {},
   "outputs": [
    {
     "data": {
      "text/plain": [
       "array([1, 0, 0, ..., 0, 0, 1])"
      ]
     },
     "execution_count": 8,
     "metadata": {},
     "output_type": "execute_result"
    }
   ],
   "source": [
    "labels"
   ]
  },
  {
   "cell_type": "code",
   "execution_count": 9,
   "metadata": {},
   "outputs": [],
   "source": [
    "num_classes=len(np.unique(labels))\n",
    "len_data=len(Cells)"
   ]
  },
  {
   "cell_type": "code",
   "execution_count": 10,
   "metadata": {},
   "outputs": [],
   "source": [
    "x_train,x_test=Cells[(int)(0.1*len_data):],Cells[:(int)(0.1*len_data)]\n",
    "x_train = x_train.astype('float32')/255\n",
    "x_test = x_test.astype('float32')/255\n",
    "train_len=len(x_train)\n",
    "test_len=len(x_test)"
   ]
  },
  {
   "cell_type": "code",
   "execution_count": 11,
   "metadata": {},
   "outputs": [
    {
     "name": "stdout",
     "output_type": "stream",
     "text": [
      "24803 2755\n"
     ]
    }
   ],
   "source": [
    "print(train_len,test_len)"
   ]
  },
  {
   "cell_type": "code",
   "execution_count": 12,
   "metadata": {},
   "outputs": [],
   "source": [
    "y_train,y_test=labels[(int)(0.1*len_data):],labels[:(int)(0.1*len_data)]"
   ]
  },
  {
   "cell_type": "code",
   "execution_count": 14,
   "metadata": {
    "scrolled": true
   },
   "outputs": [
    {
     "name": "stderr",
     "output_type": "stream",
     "text": [
      "C:\\Users\\SUNIL\\Anaconda3\\lib\\site-packages\\h5py\\__init__.py:36: FutureWarning: Conversion of the second argument of issubdtype from `float` to `np.floating` is deprecated. In future, it will be treated as `np.float64 == np.dtype(float).type`.\n",
      "  from ._conv import register_converters as _register_converters\n",
      "Using TensorFlow backend.\n"
     ]
    }
   ],
   "source": [
    "import keras\n",
    "y_train=keras.utils.to_categorical(y_train,num_classes)\n",
    "y_test=keras.utils.to_categorical(y_test,num_classes)"
   ]
  },
  {
   "cell_type": "code",
   "execution_count": 22,
   "metadata": {},
   "outputs": [],
   "source": [
    "from keras.models import Sequential\n",
    "from keras.layers import Dense,Conv2D,MaxPooling2D,Dropout,Flatten\n",
    "from keras.optimizers import RMSprop"
   ]
  },
  {
   "cell_type": "code",
   "execution_count": 33,
   "metadata": {},
   "outputs": [
    {
     "name": "stdout",
     "output_type": "stream",
     "text": [
      "Model: \"sequential_3\"\n",
      "_________________________________________________________________\n",
      "Layer (type)                 Output Shape              Param #   \n",
      "=================================================================\n",
      "conv2d_5 (Conv2D)            (None, 50, 50, 16)        208       \n",
      "_________________________________________________________________\n",
      "max_pooling2d_4 (MaxPooling2 (None, 25, 25, 16)        0         \n",
      "_________________________________________________________________\n",
      "conv2d_6 (Conv2D)            (None, 25, 25, 32)        2080      \n",
      "_________________________________________________________________\n",
      "max_pooling2d_5 (MaxPooling2 (None, 12, 12, 32)        0         \n",
      "_________________________________________________________________\n",
      "conv2d_7 (Conv2D)            (None, 12, 12, 64)        8256      \n",
      "_________________________________________________________________\n",
      "max_pooling2d_6 (MaxPooling2 (None, 6, 6, 64)          0         \n",
      "_________________________________________________________________\n",
      "dropout_3 (Dropout)          (None, 6, 6, 64)          0         \n",
      "_________________________________________________________________\n",
      "flatten_2 (Flatten)          (None, 2304)              0         \n",
      "_________________________________________________________________\n",
      "dense_3 (Dense)              (None, 500)               1152500   \n",
      "_________________________________________________________________\n",
      "dropout_4 (Dropout)          (None, 500)               0         \n",
      "_________________________________________________________________\n",
      "dense_4 (Dense)              (None, 2)                 1002      \n",
      "=================================================================\n",
      "Total params: 1,164,046\n",
      "Trainable params: 1,164,046\n",
      "Non-trainable params: 0\n",
      "_________________________________________________________________\n"
     ]
    }
   ],
   "source": [
    "model=Sequential()\n",
    "model.add(Conv2D(filters=16,kernel_size=2,padding=\"same\",activation=\"relu\",input_shape=(50,50,3)))\n",
    "model.add(MaxPooling2D(pool_size=2))\n",
    "model.add(Conv2D(filters=32,kernel_size=2,padding=\"same\",activation=\"relu\"))\n",
    "model.add(MaxPooling2D(pool_size=2))\n",
    "model.add(Conv2D(filters=64,kernel_size=2,padding=\"same\",activation=\"relu\"))\n",
    "model.add(MaxPooling2D(pool_size=2))\n",
    "model.add(Dropout(0.2))\n",
    "model.add(Flatten())\n",
    "model.add(Dense(500,activation=\"relu\"))\n",
    "model.add(Dropout(0.2))\n",
    "model.add(Dense(2,activation=\"softmax\"))#2 represent output layer neurons \n",
    "model.summary()"
   ]
  },
  {
   "cell_type": "code",
   "execution_count": 34,
   "metadata": {},
   "outputs": [],
   "source": [
    "model.compile(loss='categorical_crossentropy', optimizer='adam', metrics=['accuracy'])"
   ]
  },
  {
   "cell_type": "code",
   "execution_count": 35,
   "metadata": {},
   "outputs": [
    {
     "name": "stdout",
     "output_type": "stream",
     "text": [
      "Epoch 1/20\n",
      "24803/24803 [==============================] - 52s 2ms/step - loss: 0.4317 - accuracy: 0.7883\n",
      "Epoch 2/20\n",
      "24803/24803 [==============================] - 55s 2ms/step - loss: 0.1560 - accuracy: 0.9504 \n",
      "Epoch 3/20\n",
      "24803/24803 [==============================] - 40s 2ms/step - loss: 0.1390 - accuracy: 0.9551\n",
      "Epoch 4/20\n",
      "24803/24803 [==============================] - 40s 2ms/step - loss: 0.1291 - accuracy: 0.9575\n",
      "Epoch 5/20\n",
      "24803/24803 [==============================] - 41s 2ms/step - loss: 0.1198 - accuracy: 0.9606\n",
      "Epoch 6/20\n",
      "24803/24803 [==============================] - 42s 2ms/step - loss: 0.1105 - accuracy: 0.9625\n",
      "Epoch 7/20\n",
      "24803/24803 [==============================] - 43s 2ms/step - loss: 0.1043 - accuracy: 0.9642\n",
      "Epoch 8/20\n",
      "24803/24803 [==============================] - 43s 2ms/step - loss: 0.0981 - accuracy: 0.9642\n",
      "Epoch 9/20\n",
      "24803/24803 [==============================] - 42s 2ms/step - loss: 0.0915 - accuracy: 0.9682\n",
      "Epoch 10/20\n",
      "24803/24803 [==============================] - 42s 2ms/step - loss: 0.0837 - accuracy: 0.9699\n",
      "Epoch 11/20\n",
      "24803/24803 [==============================] - 42s 2ms/step - loss: 0.0760 - accuracy: 0.9740\n",
      "Epoch 12/20\n",
      "24803/24803 [==============================] - 42s 2ms/step - loss: 0.0660 - accuracy: 0.9754\n",
      "Epoch 13/20\n",
      "24803/24803 [==============================] - 43s 2ms/step - loss: 0.0614 - accuracy: 0.9773\n",
      "Epoch 14/20\n",
      "24803/24803 [==============================] - 42s 2ms/step - loss: 0.0565 - accuracy: 0.9798 0s - loss: 0\n",
      "Epoch 15/20\n",
      "24803/24803 [==============================] - 41s 2ms/step - loss: 0.0470 - accuracy: 0.9824\n",
      "Epoch 16/20\n",
      "24803/24803 [==============================] - 42s 2ms/step - loss: 0.0386 - accuracy: 0.9859\n",
      "Epoch 17/20\n",
      "24803/24803 [==============================] - 41s 2ms/step - loss: 0.0360 - accuracy: 0.9867\n",
      "Epoch 18/20\n",
      "24803/24803 [==============================] - 40s 2ms/step - loss: 0.0293 - accuracy: 0.9900\n",
      "Epoch 19/20\n",
      "24803/24803 [==============================] - 41s 2ms/step - loss: 0.0283 - accuracy: 0.9898\n",
      "Epoch 20/20\n",
      "24803/24803 [==============================] - 42s 2ms/step - loss: 0.0271 - accuracy: 0.9905\n"
     ]
    },
    {
     "data": {
      "text/plain": [
       "<keras.callbacks.callbacks.History at 0x15278879f60>"
      ]
     },
     "execution_count": 35,
     "metadata": {},
     "output_type": "execute_result"
    }
   ],
   "source": [
    "model.fit(x_train,y_train,batch_size=50,epochs=20,verbose=1)"
   ]
  },
  {
   "cell_type": "code",
   "execution_count": 36,
   "metadata": {},
   "outputs": [
    {
     "name": "stdout",
     "output_type": "stream",
     "text": [
      "2755/2755 [==============================] - 1s 349us/step\n",
      "\n",
      " Test_Accuracy=> 0.957531750202179\n"
     ]
    }
   ],
   "source": [
    "accuracy = model.evaluate(x_test, y_test,verbose=1)\n",
    "print('\\n', 'Test_Accuracy=>', accuracy[1])"
   ]
  }
 ],
 "metadata": {
  "kernelspec": {
   "display_name": "Python 3",
   "language": "python",
   "name": "python3"
  },
  "language_info": {
   "codemirror_mode": {
    "name": "ipython",
    "version": 3
   },
   "file_extension": ".py",
   "mimetype": "text/x-python",
   "name": "python",
   "nbconvert_exporter": "python",
   "pygments_lexer": "ipython3",
   "version": "3.6.5"
  }
 },
 "nbformat": 4,
 "nbformat_minor": 2
}
